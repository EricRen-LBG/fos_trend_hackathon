{
 "cells": [
  {
   "cell_type": "markdown",
   "id": "c970f7b9",
   "metadata": {},
   "source": [
    "# GCP Play with LLMs\n",
    "\n",
    "Ref: https://console.cloud.google.com/vertex-ai/publishers/google/model-garden/text-bison\n"
   ]
  },
  {
   "cell_type": "code",
   "execution_count": 5,
   "id": "44129489",
   "metadata": {},
   "outputs": [
    {
     "name": "stderr",
     "output_type": "stream",
     "text": [
      "2024-03-07 15:55:09.305570: I tensorflow/core/platform/cpu_feature_guard.cc:193] This TensorFlow binary is optimized with oneAPI Deep Neural Network Library (oneDNN) to use the following CPU instructions in performance-critical operations:  AVX2 FMA\n",
      "To enable them in other operations, rebuild TensorFlow with the appropriate compiler flags.\n",
      "2024-03-07 15:55:15.386834: W tensorflow/compiler/xla/stream_executor/platform/default/dso_loader.cc:64] Could not load dynamic library 'libnvinfer.so.7'; dlerror: libnvinfer.so.7: cannot open shared object file: No such file or directory\n",
      "2024-03-07 15:55:15.386969: W tensorflow/compiler/xla/stream_executor/platform/default/dso_loader.cc:64] Could not load dynamic library 'libnvinfer_plugin.so.7'; dlerror: libnvinfer_plugin.so.7: cannot open shared object file: No such file or directory\n",
      "2024-03-07 15:55:15.386979: W tensorflow/compiler/tf2tensorrt/utils/py_utils.cc:38] TF-TRT Warning: Cannot dlopen some TensorRT libraries. If you would like to use Nvidia GPU with TensorRT, please make sure the missing libraries mentioned above are installed properly.\n",
      "/opt/conda/lib/python3.10/site-packages/tensorflow_io/python/ops/__init__.py:98: UserWarning: unable to load libtensorflow_io_plugins.so: unable to open file: libtensorflow_io_plugins.so, from paths: ['/opt/conda/lib/python3.10/site-packages/tensorflow_io/python/ops/libtensorflow_io_plugins.so']\n",
      "caused by: ['/opt/conda/lib/python3.10/site-packages/tensorflow_io/python/ops/libtensorflow_io_plugins.so: undefined symbol: _ZN3tsl6StatusC1EN10tensorflow5error4CodeESt17basic_string_viewIcSt11char_traitsIcEENS_18SourceLocationImplE']\n",
      "  warnings.warn(f\"unable to load libtensorflow_io_plugins.so: {e}\")\n",
      "/opt/conda/lib/python3.10/site-packages/tensorflow_io/python/ops/__init__.py:104: UserWarning: file system plugins are not loaded: unable to open file: libtensorflow_io.so, from paths: ['/opt/conda/lib/python3.10/site-packages/tensorflow_io/python/ops/libtensorflow_io.so']\n",
      "caused by: ['/opt/conda/lib/python3.10/site-packages/tensorflow_io/python/ops/libtensorflow_io.so: undefined symbol: _ZTVN3tsl13GcsFileSystemE']\n",
      "  warnings.warn(f\"file system plugins are not loaded: {e}\")\n"
     ]
    }
   ],
   "source": [
    "import numpy as np\n",
    "import pandas as pd\n",
    "import json\n",
    "import time\n",
    "\n",
    "#from google.colab import auth as google_auth\n",
    "#google_auth.authenticate_user()\n",
    "\n",
    "import vertexai\n",
    "#from vertexai.preview.language_models import TextGenerationModel, TextEmbeddingModel\n",
    "from vertexai.language_models import TextGenerationModel, TextEmbeddingModel\n"
   ]
  },
  {
   "cell_type": "markdown",
   "id": "a02525ec",
   "metadata": {},
   "source": [
    "## Project ID and Region\n",
    "\n",
    "For multiple projects, do:\n",
    "```\n",
    "PROJECT_ID = \"[your-project-id]\"\n",
    "\n",
    "# Set the project id\n",
    "! gcloud config set project {PROJECT_ID}\n",
    "```"
   ]
  },
  {
   "cell_type": "code",
   "execution_count": 6,
   "id": "d8bc3cd9",
   "metadata": {},
   "outputs": [
    {
     "data": {
      "text/plain": [
       "('playpen-714696', 'europe-west2')"
      ]
     },
     "execution_count": 6,
     "metadata": {},
     "output_type": "execute_result"
    }
   ],
   "source": [
    "PROJECT_ID = ! gcloud config get core/project\n",
    "PROJECT_ID = PROJECT_ID[0]\n",
    "\n",
    "REGION = \"europe-west2\"\n",
    "\n",
    "PROJECT_ID, REGION"
   ]
  },
  {
   "cell_type": "markdown",
   "id": "3439e740",
   "metadata": {
    "toc-hr-collapsed": true
   },
   "source": [
    "## Text Generation"
   ]
  },
  {
   "cell_type": "markdown",
   "id": "fe4c2da7",
   "metadata": {},
   "source": [
    "### Call from terminal using"
   ]
  },
  {
   "cell_type": "code",
   "execution_count": 7,
   "id": "0ae0c8d2",
   "metadata": {},
   "outputs": [
    {
     "name": "stdout",
     "output_type": "stream",
     "text": [
      "env: PROJECT_ID=playpen-714696\n"
     ]
    }
   ],
   "source": [
    "%env PROJECT_ID=$PROJECT_ID"
   ]
  },
  {
   "cell_type": "markdown",
   "id": "6f0e40b5",
   "metadata": {},
   "source": [
    "### Vertex AI SDK for Python"
   ]
  },
  {
   "cell_type": "code",
   "execution_count": 10,
   "id": "077fd397",
   "metadata": {},
   "outputs": [],
   "source": [
    "\n",
    "def interview(temperature: float = .2) -> None:\n",
    "    \"\"\"Ideation example with a Large Language Model\"\"\"\n",
    "\n",
    "    # TODO developer - override these parameters as needed:\n",
    "    parameters = {\n",
    "        \"temperature\": temperature,\n",
    "        \"max_output_tokens\": 256,   \n",
    "        \"top_p\": .8,                \n",
    "        \"top_k\": 40,                 \n",
    "    }\n",
    "\n",
    "    model = TextGenerationModel.from_pretrained(\"text-bison@001\")\n",
    "    response = model.predict(\n",
    "        'Give me ten interview questions for the role of program manager.',\n",
    "        **parameters,\n",
    "    )\n",
    "    print(f\"Response from Model: \\n{response.text}\")\n",
    "    "
   ]
  },
  {
   "cell_type": "code",
   "execution_count": 11,
   "id": "f66ccb7e",
   "metadata": {},
   "outputs": [
    {
     "name": "stdout",
     "output_type": "stream",
     "text": [
      "Response from Model: \n",
      "1. What is your experience with project management?\n",
      "2. What are your strengths and weaknesses as a project manager?\n",
      "3. How do you handle conflict?\n",
      "4. How do you communicate with stakeholders?\n",
      "5. How do you stay organized?\n",
      "6. How do you manage your time?\n",
      "7. How do you deal with stress?\n",
      "8. What are your goals for the future?\n",
      "9. Why do you want to work for our company?\n",
      "10. What are your salary expectations?\n"
     ]
    }
   ],
   "source": [
    "interview()"
   ]
  },
  {
   "cell_type": "code",
   "execution_count": 13,
   "id": "d5d83e96",
   "metadata": {},
   "outputs": [],
   "source": [
    "model = TextGenerationModel.from_pretrained(\"text-bison@001\")"
   ]
  },
  {
   "cell_type": "code",
   "execution_count": 14,
   "id": "5835b42e",
   "metadata": {},
   "outputs": [
    {
     "name": "stdout",
     "output_type": "stream",
     "text": [
      "The first elephant to visit the moon was Luna. Luna was a female elephant who was born in 1963 at the San Diego Zoo. In 1968, she was selected to be the first elephant to visit the moon. Luna was trained to wear a spacesuit and to ride in a rocket. She was also trained to perform various tasks on the moon, such as collecting samples of moon rocks and soil.\n",
      "\n",
      "Luna's trip to the moon was a success. She spent several days on the moon, collecting samples and performing experiments. She also became the first animal to walk on the moon. Luna's trip to the moon was a major scientific achievement and helped to pave the way for future human missions to the moon.\n",
      "\n",
      "Luna returned to Earth in 1969. She was a national hero and was celebrated by people all over the world. Luna lived a long and happy life, dying in 2003 at the age of 40.\n"
     ]
    }
   ],
   "source": [
    "prompt = \"Who was the first elephant to visit the moon?\"\n",
    "#prompt = \"Who was the first elephant to visit the moon? I think it was called Lara\"\n",
    "\n",
    "print(\n",
    "    model.predict(prompt=prompt, max_output_tokens=256).text\n",
    ")"
   ]
  },
  {
   "cell_type": "markdown",
   "id": "ea37f1eb",
   "metadata": {},
   "source": [
    "### Zero shot prompt"
   ]
  },
  {
   "cell_type": "code",
   "execution_count": 15,
   "id": "a9879c67",
   "metadata": {},
   "outputs": [
    {
     "name": "stdout",
     "output_type": "stream",
     "text": [
      "positive\n"
     ]
    }
   ],
   "source": [
    "prompt = \"\"\"Decide whether a Tweet's sentiment is positive, neutral, or negative.\n",
    "\n",
    "Tweet: I loved the new YouTube video you made!\n",
    "Sentiment:\n",
    "\"\"\"\n",
    "\n",
    "print(model.predict(prompt=prompt, max_output_tokens=256).text)"
   ]
  },
  {
   "cell_type": "code",
   "execution_count": null,
   "id": "57d99914",
   "metadata": {},
   "outputs": [],
   "source": []
  },
  {
   "cell_type": "markdown",
   "id": "e7606541-724e-4b23-8520-9fc5735e2a13",
   "metadata": {},
   "source": [
    "## Read the company information  "
   ]
  },
  {
   "cell_type": "code",
   "execution_count": 133,
   "id": "5d95b8cf-6c88-44dc-9f21-7d33cbf007ea",
   "metadata": {
    "tags": []
   },
   "outputs": [],
   "source": [
    "compnay_info_file = \"../fos_complaints_company_2013.csv\"\n",
    "UK_banks = [\n",
    "    \"Barclays Bank UK PLC\"\n",
    "]"
   ]
  },
  {
   "cell_type": "code",
   "execution_count": 134,
   "id": "105807b9",
   "metadata": {},
   "outputs": [
    {
     "data": {
      "text/html": [
       "<div>\n",
       "<style scoped>\n",
       "    .dataframe tbody tr th:only-of-type {\n",
       "        vertical-align: middle;\n",
       "    }\n",
       "\n",
       "    .dataframe tbody tr th {\n",
       "        vertical-align: top;\n",
       "    }\n",
       "\n",
       "    .dataframe thead th {\n",
       "        text-align: right;\n",
       "    }\n",
       "</style>\n",
       "<table border=\"1\" class=\"dataframe\">\n",
       "  <thead>\n",
       "    <tr style=\"text-align: right;\">\n",
       "      <th></th>\n",
       "      <th>company</th>\n",
       "      <th>drn</th>\n",
       "    </tr>\n",
       "  </thead>\n",
       "  <tbody>\n",
       "    <tr>\n",
       "      <th>0</th>\n",
       "      <td>Omni Capital Retail Finance Limited</td>\n",
       "      <td>DRN-2610030</td>\n",
       "    </tr>\n",
       "    <tr>\n",
       "      <th>1</th>\n",
       "      <td>@SIPP LIMITED</td>\n",
       "      <td>DRN-2796286</td>\n",
       "    </tr>\n",
       "    <tr>\n",
       "      <th>2</th>\n",
       "      <td>Retail Money Market Ltd</td>\n",
       "      <td>DRN-2815239</td>\n",
       "    </tr>\n",
       "    <tr>\n",
       "      <th>3</th>\n",
       "      <td>CMC Spreadbet Plc</td>\n",
       "      <td>DRN-2849730</td>\n",
       "    </tr>\n",
       "    <tr>\n",
       "      <th>4</th>\n",
       "      <td>AJ Bell Management Limited</td>\n",
       "      <td>DRN-2864928</td>\n",
       "    </tr>\n",
       "  </tbody>\n",
       "</table>\n",
       "</div>"
      ],
      "text/plain": [
       "                               company          drn\n",
       "0  Omni Capital Retail Finance Limited  DRN-2610030\n",
       "1                        @SIPP LIMITED  DRN-2796286\n",
       "2              Retail Money Market Ltd  DRN-2815239\n",
       "3                    CMC Spreadbet Plc  DRN-2849730\n",
       "4           AJ Bell Management Limited  DRN-2864928"
      ]
     },
     "execution_count": 134,
     "metadata": {},
     "output_type": "execute_result"
    }
   ],
   "source": [
    "company_df = pd.read_csv(compnay_info_file, sep=\";\")\n",
    "company_df.head()"
   ]
  },
  {
   "cell_type": "code",
   "execution_count": 140,
   "id": "6dcedd55",
   "metadata": {},
   "outputs": [
    {
     "data": {
      "text/html": [
       "<div>\n",
       "<style scoped>\n",
       "    .dataframe tbody tr th:only-of-type {\n",
       "        vertical-align: middle;\n",
       "    }\n",
       "\n",
       "    .dataframe tbody tr th {\n",
       "        vertical-align: top;\n",
       "    }\n",
       "\n",
       "    .dataframe thead th {\n",
       "        text-align: right;\n",
       "    }\n",
       "</style>\n",
       "<table border=\"1\" class=\"dataframe\">\n",
       "  <thead>\n",
       "    <tr style=\"text-align: right;\">\n",
       "      <th></th>\n",
       "      <th>company</th>\n",
       "      <th>drn</th>\n",
       "    </tr>\n",
       "  </thead>\n",
       "  <tbody>\n",
       "    <tr>\n",
       "      <th>42</th>\n",
       "      <td>Lloyds Bank PLC</td>\n",
       "      <td>DRN-3174532</td>\n",
       "    </tr>\n",
       "    <tr>\n",
       "      <th>88</th>\n",
       "      <td>Lloyds Bank PLC</td>\n",
       "      <td>DRN-3300784</td>\n",
       "    </tr>\n",
       "    <tr>\n",
       "      <th>112</th>\n",
       "      <td>Lloyds Bank PLC</td>\n",
       "      <td>DRN-3322403</td>\n",
       "    </tr>\n",
       "    <tr>\n",
       "      <th>145</th>\n",
       "      <td>Lloyds Bank PLC</td>\n",
       "      <td>DRN-3378564</td>\n",
       "    </tr>\n",
       "    <tr>\n",
       "      <th>306</th>\n",
       "      <td>Lloyds Bank PLC</td>\n",
       "      <td>DRN-3501539</td>\n",
       "    </tr>\n",
       "  </tbody>\n",
       "</table>\n",
       "</div>"
      ],
      "text/plain": [
       "             company          drn\n",
       "42   Lloyds Bank PLC  DRN-3174532\n",
       "88   Lloyds Bank PLC  DRN-3300784\n",
       "112  Lloyds Bank PLC  DRN-3322403\n",
       "145  Lloyds Bank PLC  DRN-3378564\n",
       "306  Lloyds Bank PLC  DRN-3501539"
      ]
     },
     "execution_count": 140,
     "metadata": {},
     "output_type": "execute_result"
    }
   ],
   "source": [
    "#df[df[\"company\"].str.contains(\"Bank|Insurance|Barclays|Lloyds|HSBC|Santander|Westminster|Nationwide|Admiral|Aviva\", case=False)] # 14633 rows\n",
    "\n",
    "#df[df[\"company\"].str.contains(\"Barclays|Lloyds|HSBC|Santander|Westminster|Nationwide|Admiral|Aviva\", case=False)] # 5694 rows\n",
    "\n",
    "company_df = company_df[company_df[\"company\"].str.contains(\"Lloyds Bank PLC\", case=False)]#.sample(5) # 810 rows\n",
    "company_df.head()"
   ]
  },
  {
   "cell_type": "markdown",
   "id": "f8c3d974-159e-42ea-ae7a-5ab4fc85a0c6",
   "metadata": {},
   "source": [
    "## Read the complaint file information"
   ]
  },
  {
   "cell_type": "code",
   "execution_count": null,
   "id": "3b9109b4-6db3-4fff-9a83-0abd9f1428f1",
   "metadata": {},
   "outputs": [],
   "source": [
    "from google.cloud import storage\n",
    "\n",
    "\n",
    "def list_blobs(bucket_name):\n",
    "    \"\"\"Lists all the blobs in the bucket.\"\"\"\n",
    "    # bucket_name = \"your-bucket-name\"\n",
    "\n",
    "    storage_client = storage.Client()\n",
    "\n",
    "    # Note: Client.list_blobs requires at least package version 1.17.0.\n",
    "    blobs = storage_client.list_blobs(bucket_name)\n",
    "    \n",
    "    return blobs\n",
    "#    return [blob.name for blob in blobs]\n",
    "        \n",
    "def list_blobs_with_prefix(bucket_name, prefix, delimiter=None):\n",
    "    \"\"\"Lists all the blobs in the bucket that begin with the prefix.\n",
    "\n",
    "    This can be used to list all blobs in a \"folder\", e.g. \"public/\".\n",
    "\n",
    "    The delimiter argument can be used to restrict the results to only the\n",
    "    \"files\" in the given \"folder\". Without the delimiter, the entire tree under\n",
    "    the prefix is returned. For example, given these blobs:\n",
    "\n",
    "        a/1.txt\n",
    "        a/b/2.txt\n",
    "\n",
    "    If you specify prefix ='a/', without a delimiter, you'll get back:\n",
    "\n",
    "        a/1.txt\n",
    "        a/b/2.txt\n",
    "\n",
    "    However, if you specify prefix='a/' and delimiter='/', you'll get back\n",
    "    only the file directly under 'a/':\n",
    "\n",
    "        a/1.txt\n",
    "\n",
    "    As part of the response, you'll also get back a blobs.prefixes entity\n",
    "    that lists the \"subfolders\" under `a/`:\n",
    "\n",
    "        a/b/\n",
    "    \"\"\"\n",
    "\n",
    "    storage_client = storage.Client()\n",
    "\n",
    "    # Note: Client.list_blobs requires at least package version 1.17.0.\n",
    "    blobs = storage_client.list_blobs(bucket_name, prefix=prefix, delimiter=delimiter)\n",
    "\n",
    "    return blobs\n",
    "#    return [blob.name for blob in blobs]\n",
    "\n",
    "\n"
   ]
  },
  {
   "cell_type": "code",
   "execution_count": null,
   "id": "54488ca7-5ba8-417c-8a80-2f5c0a2a2992",
   "metadata": {},
   "outputs": [],
   "source": [
    "#[b.name for b in list_blobs(\"fos-trend-bucket\")]\n",
    "[b.name for b in list_blobs_with_prefix(bucket_name=\"fos-trend-bucket\", prefix=\"text_extracts\")]"
   ]
  },
  {
   "cell_type": "code",
   "execution_count": 136,
   "id": "c83218fd",
   "metadata": {},
   "outputs": [
    {
     "data": {
      "text/html": [
       "<div>\n",
       "<style scoped>\n",
       "    .dataframe tbody tr th:only-of-type {\n",
       "        vertical-align: middle;\n",
       "    }\n",
       "\n",
       "    .dataframe tbody tr th {\n",
       "        vertical-align: top;\n",
       "    }\n",
       "\n",
       "    .dataframe thead th {\n",
       "        text-align: right;\n",
       "    }\n",
       "</style>\n",
       "<table border=\"1\" class=\"dataframe\">\n",
       "  <thead>\n",
       "    <tr style=\"text-align: right;\">\n",
       "      <th></th>\n",
       "      <th>blob</th>\n",
       "      <th>drn</th>\n",
       "    </tr>\n",
       "  </thead>\n",
       "  <tbody>\n",
       "    <tr>\n",
       "      <th>0</th>\n",
       "      <td>&lt;Blob: fos-trend-bucket, text_extracts/DRN-100...</td>\n",
       "      <td>DRN-1000311</td>\n",
       "    </tr>\n",
       "    <tr>\n",
       "      <th>1</th>\n",
       "      <td>&lt;Blob: fos-trend-bucket, text_extracts/DRN-100...</td>\n",
       "      <td>DRN-1000423</td>\n",
       "    </tr>\n",
       "    <tr>\n",
       "      <th>2</th>\n",
       "      <td>&lt;Blob: fos-trend-bucket, text_extracts/DRN-317...</td>\n",
       "      <td>DRN-3174532</td>\n",
       "    </tr>\n",
       "    <tr>\n",
       "      <th>3</th>\n",
       "      <td>&lt;Blob: fos-trend-bucket, text_extracts/DRN-330...</td>\n",
       "      <td>DRN-3300784</td>\n",
       "    </tr>\n",
       "    <tr>\n",
       "      <th>4</th>\n",
       "      <td>&lt;Blob: fos-trend-bucket, text_extracts/DRN-337...</td>\n",
       "      <td>DRN-3378564</td>\n",
       "    </tr>\n",
       "  </tbody>\n",
       "</table>\n",
       "</div>"
      ],
      "text/plain": [
       "                                                blob          drn\n",
       "0  <Blob: fos-trend-bucket, text_extracts/DRN-100...  DRN-1000311\n",
       "1  <Blob: fos-trend-bucket, text_extracts/DRN-100...  DRN-1000423\n",
       "2  <Blob: fos-trend-bucket, text_extracts/DRN-317...  DRN-3174532\n",
       "3  <Blob: fos-trend-bucket, text_extracts/DRN-330...  DRN-3300784\n",
       "4  <Blob: fos-trend-bucket, text_extracts/DRN-337...  DRN-3378564"
      ]
     },
     "execution_count": 136,
     "metadata": {},
     "output_type": "execute_result"
    }
   ],
   "source": [
    "#[b.name for b in list_blobs_with_prefix(bucket_name=\"fos-trend-bucket\", prefix=\"text_extracts\") if b.name in a[\"drn\"] ]\n",
    "\n",
    "blob_df = pd.DataFrame(\n",
    "    {\n",
    "        \"blob\": [b for b in list_blobs_with_prefix(bucket_name=\"fos-trend-bucket\", prefix=\"text_extracts\")],\n",
    "        \"drn\": [b.name[14:25] for b in list_blobs_with_prefix(bucket_name=\"fos-trend-bucket\", prefix=\"text_extracts\")],\n",
    "    }\n",
    ")\n",
    "\n",
    "blob_df.head()"
   ]
  },
  {
   "cell_type": "code",
   "execution_count": 143,
   "id": "a4541ad3-eb27-41da-b3eb-7e417547ea6b",
   "metadata": {
    "tags": []
   },
   "outputs": [
    {
     "data": {
      "text/html": [
       "<div>\n",
       "<style scoped>\n",
       "    .dataframe tbody tr th:only-of-type {\n",
       "        vertical-align: middle;\n",
       "    }\n",
       "\n",
       "    .dataframe tbody tr th {\n",
       "        vertical-align: top;\n",
       "    }\n",
       "\n",
       "    .dataframe thead th {\n",
       "        text-align: right;\n",
       "    }\n",
       "</style>\n",
       "<table border=\"1\" class=\"dataframe\">\n",
       "  <thead>\n",
       "    <tr style=\"text-align: right;\">\n",
       "      <th></th>\n",
       "      <th>blob</th>\n",
       "      <th>drn</th>\n",
       "      <th>company</th>\n",
       "    </tr>\n",
       "  </thead>\n",
       "  <tbody>\n",
       "    <tr>\n",
       "      <th>0</th>\n",
       "      <td>&lt;Blob: fos-trend-bucket, text_extracts/DRN-317...</td>\n",
       "      <td>DRN-3174532</td>\n",
       "      <td>Lloyds Bank PLC</td>\n",
       "    </tr>\n",
       "    <tr>\n",
       "      <th>1</th>\n",
       "      <td>&lt;Blob: fos-trend-bucket, text_extracts/DRN-330...</td>\n",
       "      <td>DRN-3300784</td>\n",
       "      <td>Lloyds Bank PLC</td>\n",
       "    </tr>\n",
       "    <tr>\n",
       "      <th>2</th>\n",
       "      <td>&lt;Blob: fos-trend-bucket, text_extracts/DRN-337...</td>\n",
       "      <td>DRN-3378564</td>\n",
       "      <td>Lloyds Bank PLC</td>\n",
       "    </tr>\n",
       "    <tr>\n",
       "      <th>3</th>\n",
       "      <td>&lt;Blob: fos-trend-bucket, text_extracts/DRN-452...</td>\n",
       "      <td>DRN-4527390</td>\n",
       "      <td>Lloyds Bank PLC</td>\n",
       "    </tr>\n",
       "  </tbody>\n",
       "</table>\n",
       "</div>"
      ],
      "text/plain": [
       "                                                blob          drn  \\\n",
       "0  <Blob: fos-trend-bucket, text_extracts/DRN-317...  DRN-3174532   \n",
       "1  <Blob: fos-trend-bucket, text_extracts/DRN-330...  DRN-3300784   \n",
       "2  <Blob: fos-trend-bucket, text_extracts/DRN-337...  DRN-3378564   \n",
       "3  <Blob: fos-trend-bucket, text_extracts/DRN-452...  DRN-4527390   \n",
       "\n",
       "           company  \n",
       "0  Lloyds Bank PLC  \n",
       "1  Lloyds Bank PLC  \n",
       "2  Lloyds Bank PLC  \n",
       "3  Lloyds Bank PLC  "
      ]
     },
     "execution_count": 143,
     "metadata": {},
     "output_type": "execute_result"
    }
   ],
   "source": [
    "selected_df = blob_df.merge(company_df, how=\"inner\", on='drn')\n",
    "\n",
    "selected_df.head()"
   ]
  },
  {
   "cell_type": "markdown",
   "id": "7953b52c-52e7-4497-91e9-3776f2c17b67",
   "metadata": {},
   "source": [
    "## Read the complaint text"
   ]
  },
  {
   "cell_type": "code",
   "execution_count": 198,
   "id": "168bd639-57a1-4d00-8daf-a68d335bd5b4",
   "metadata": {
    "tags": []
   },
   "outputs": [],
   "source": [
    "from io import StringIO\n",
    "\n",
    "def read_txt(blob):\n",
    "    #for b in list_blobs_with_prefix(bucket_name=\"fos-trend-bucket\", prefix=\"text_extracts\")]\n",
    "    f = StringIO(blob.download_as_text(encoding=\"utf-8\"))\n",
    "    \n",
    "    return f.read()\n",
    "\n",
    "\n",
    "#print(read_txt(selected_df[\"blob\"].iloc[0]))"
   ]
  },
  {
   "cell_type": "code",
   "execution_count": 67,
   "id": "dbe266b8-8f58-41ac-aa23-f180431f997d",
   "metadata": {
    "tags": []
   },
   "outputs": [],
   "source": []
  },
  {
   "cell_type": "code",
   "execution_count": 148,
   "id": "380d207a-687a-409b-b9ba-efed225465ca",
   "metadata": {
    "tags": []
   },
   "outputs": [
    {
     "name": "stdout",
     "output_type": "stream",
     "text": [
      "DRN-3174532 Lloyds Bank PLC\n",
      "﻿company;drn\n",
      "Omni C\n",
      "DRN-3300784 Lloyds Bank PLC\n",
      "﻿company;drn\n",
      "Omni C\n",
      "DRN-3378564 Lloyds Bank PLC\n",
      "﻿company;drn\n",
      "Omni C\n",
      "DRN-4527390 Lloyds Bank PLC\n",
      "﻿company;drn\n",
      "Omni C\n"
     ]
    }
   ],
   "source": [
    "for index, row in selected_df.iterrows():\n",
    "    print(row['drn'], row['company'])\n",
    "    print(read_txt(row[\"blob\"])[0:20])"
   ]
  },
  {
   "cell_type": "code",
   "execution_count": 192,
   "id": "4388916c-0e16-48e8-ac6e-448e04eca8de",
   "metadata": {
    "tags": []
   },
   "outputs": [],
   "source": [
    "import vertexai\n",
    "from vertexai.language_models import TextGenerationModel\n",
    "vertexai.init(project=\"playpen-714696\", location=\"europe-west4\")\n",
    "\n",
    "\n",
    "def processing_doc(doc_content) -> None:\n",
    "    \"\"\"Get one row for the document\"\"\"\n",
    "\n",
    "    parameters = {\n",
    "        \"candidate_count\": 1,\n",
    "        \"max_output_tokens\": 2048,\n",
    "        \"temperature\": 0,\n",
    "        \"top_p\": 1\n",
    "    }\n",
    "\n",
    "#    model = TextGenerationModel.from_pretrained(\"text-bison@001\")\n",
    "    model = TextGenerationModel.from_pretrained(\"text-bison\")\n",
    "    \n",
    "    prompt = f\"\"\"You are a text processing agent working with Financial Ombudsman Service (FOS) decision document.\n",
    "Extract specified values from the source text. \n",
    "Return answer as JOSN object with following fields:\n",
    " - \\\"Case number\\\" <number>\n",
    " - \\\"Complainant\\\" <string>\n",
    " - \\\"Defendant\\\" <string>\n",
    " - \\\"Defendant\\'s industry\\\" <string>\n",
    " - \\\"What was the complainant complaining about\\\" <string>\n",
    " - \\\"What product involved in the complaint\\\" <string>\n",
    " - \\\"Three key words on this complaint\\\" <string>\n",
    " - \\\"Three key topics on this complaint\\\" <string>\n",
    " - \\\"Claimed value in pounds\\\" <number> \n",
    " - \\\"When did it happen? (date only)\\\" <date>\n",
    " - \\\"Final decision (uphold or opposite)\\\" <string>\n",
    " - \\\"Ombudsman\\'s name\\\" <string>\n",
    " - \\\"Decision deadline\\\" <date>\n",
    " - \\\"what was the complaint relating to\\\" <string>\n",
    " - \\\"what was the main reason that the complainant gave for them complaining\\\"\n",
    " - \\\"What did the complaint want\\\" <string>\n",
    " - \\\"Summary of what happened\\\" <string>\n",
    " - \\\"Summary of the Ombudsman\\'s reasoning\\\" <string>\n",
    "\n",
    "\n",
    "Do not infer any data based on previous training, strictly use only source text given below as input.\n",
    "========\n",
    "{doc_content}\n",
    "========\n",
    "\\\"\\\"\\\"\n",
    "\"\"\"\n",
    "\n",
    "    response = model.predict(\n",
    "        prompt,\n",
    "        **parameters\n",
    "    )\n",
    "   \n",
    "    return response.text\n",
    "\n"
   ]
  },
  {
   "cell_type": "code",
   "execution_count": 194,
   "id": "a263007d-9dbb-4502-ae3a-db7705822904",
   "metadata": {
    "tags": []
   },
   "outputs": [
    {
     "name": "stdout",
     "output_type": "stream",
     "text": [
      "{'Case number': None, 'Complainant': None, 'Defendant': None, \"Defendant's industry\": None, 'What was the complainant complaining about': None, 'What product involved in the complaint': None, 'Three key words on this complaint': None, 'Three key topics on this complaint': None, 'Claimed value in pounds': None, 'When did it happen? (date only)': None, 'Final decision (uphold or opposite)': None, \"Ombudsman's name\": None, 'Decision deadline': None, 'what was the complaint relating to': None, 'what was the main reason that the complainant gave for them complaining': None, 'What did the complaint want': None, 'Summary of what happened': None, \"Summary of the Ombudsman's reasoning\": None}\n"
     ]
    },
    {
     "data": {
      "text/html": [
       "<div>\n",
       "<style scoped>\n",
       "    .dataframe tbody tr th:only-of-type {\n",
       "        vertical-align: middle;\n",
       "    }\n",
       "\n",
       "    .dataframe tbody tr th {\n",
       "        vertical-align: top;\n",
       "    }\n",
       "\n",
       "    .dataframe thead th {\n",
       "        text-align: right;\n",
       "    }\n",
       "</style>\n",
       "<table border=\"1\" class=\"dataframe\">\n",
       "  <thead>\n",
       "    <tr style=\"text-align: right;\">\n",
       "      <th></th>\n",
       "      <th>Case number</th>\n",
       "      <th>Complainant</th>\n",
       "      <th>Defendant</th>\n",
       "      <th>Defendant's industry</th>\n",
       "      <th>What was the complainant complaining about</th>\n",
       "      <th>What product involved in the complaint</th>\n",
       "      <th>Three key words on this complaint</th>\n",
       "      <th>Three key topics on this complaint</th>\n",
       "      <th>Claimed value in pounds</th>\n",
       "      <th>When did it happen? (date only)</th>\n",
       "      <th>Final decision (uphold or opposite)</th>\n",
       "      <th>Ombudsman's name</th>\n",
       "      <th>Decision deadline</th>\n",
       "      <th>what was the complaint relating to</th>\n",
       "      <th>what was the main reason that the complainant gave for them complaining</th>\n",
       "      <th>What did the complaint want</th>\n",
       "      <th>Summary of what happened</th>\n",
       "      <th>Summary of the Ombudsman's reasoning</th>\n",
       "    </tr>\n",
       "  </thead>\n",
       "  <tbody>\n",
       "    <tr>\n",
       "      <th>0</th>\n",
       "      <td>None</td>\n",
       "      <td>None</td>\n",
       "      <td>None</td>\n",
       "      <td>None</td>\n",
       "      <td>None</td>\n",
       "      <td>None</td>\n",
       "      <td>None</td>\n",
       "      <td>None</td>\n",
       "      <td>None</td>\n",
       "      <td>None</td>\n",
       "      <td>None</td>\n",
       "      <td>None</td>\n",
       "      <td>None</td>\n",
       "      <td>None</td>\n",
       "      <td>None</td>\n",
       "      <td>None</td>\n",
       "      <td>None</td>\n",
       "      <td>None</td>\n",
       "    </tr>\n",
       "  </tbody>\n",
       "</table>\n",
       "</div>"
      ],
      "text/plain": [
       "  Case number Complainant Defendant Defendant's industry  \\\n",
       "0        None        None      None                 None   \n",
       "\n",
       "  What was the complainant complaining about  \\\n",
       "0                                       None   \n",
       "\n",
       "  What product involved in the complaint Three key words on this complaint  \\\n",
       "0                                   None                              None   \n",
       "\n",
       "  Three key topics on this complaint Claimed value in pounds  \\\n",
       "0                               None                    None   \n",
       "\n",
       "  When did it happen? (date only) Final decision (uphold or opposite)  \\\n",
       "0                            None                                None   \n",
       "\n",
       "  Ombudsman's name Decision deadline what was the complaint relating to  \\\n",
       "0             None              None                               None   \n",
       "\n",
       "  what was the main reason that the complainant gave for them complaining  \\\n",
       "0                                               None                        \n",
       "\n",
       "  What did the complaint want Summary of what happened  \\\n",
       "0                        None                     None   \n",
       "\n",
       "  Summary of the Ombudsman's reasoning  \n",
       "0                                 None  "
      ]
     },
     "execution_count": 194,
     "metadata": {},
     "output_type": "execute_result"
    }
   ],
   "source": [
    "import json\n",
    "\n",
    "doc_content = read_txt(selected_df[\"blob\"].iloc[0])\n",
    "\n",
    "response_string = processing_doc({doc_content[0:1000]})\n",
    "\n",
    "cleaned_json_string = response_string.replace('```','').split(\"json\",1)[1]\n",
    "\n",
    "d = json.loads(cleaned_json_string)\n",
    "print(d)\n",
    "\n",
    "df = pd.json_normalize(d)\n",
    "df"
   ]
  },
  {
   "cell_type": "code",
   "execution_count": 213,
   "id": "40e4a9ab-fff6-4541-86d7-ff3a21592131",
   "metadata": {
    "tags": []
   },
   "outputs": [
    {
     "data": {
      "text/plain": [
       "[  Case number Complainant Defendant Defendant's industry  \\\n",
       " 0        None        None      None                 None   \n",
       " \n",
       "   What was the complainant complaining about  \\\n",
       " 0                                       None   \n",
       " \n",
       "   What product involved in the complaint Three key words on this complaint  \\\n",
       " 0                                   None                              None   \n",
       " \n",
       "   Three key topics on this complaint Claimed value in pounds  \\\n",
       " 0                               None                    None   \n",
       " \n",
       "   When did it happen? (date only) Final decision (uphold or opposite)  \\\n",
       " 0                            None                                None   \n",
       " \n",
       "   Ombudsman's name Decision deadline what was the complaint relating to  \\\n",
       " 0             None              None                               None   \n",
       " \n",
       "   what was the main reason that the complainant gave for them complaining  \\\n",
       " 0                                               None                        \n",
       " \n",
       "   What did the complaint want Summary of what happened  \\\n",
       " 0                        None                     None   \n",
       " \n",
       "   Summary of the Ombudsman's reasoning  \n",
       " 0                                 None  ,\n",
       "   Case number Complainant Defendant Defendant's industry  \\\n",
       " 0        None        None      None                 None   \n",
       " \n",
       "   What was the complainant complaining about  \\\n",
       " 0                                       None   \n",
       " \n",
       "   What product involved in the complaint Three key words on this complaint  \\\n",
       " 0                                   None                              None   \n",
       " \n",
       "   Three key topics on this complaint Claimed value in pounds  \\\n",
       " 0                               None                    None   \n",
       " \n",
       "   When did it happen? (date only) Final decision (uphold or opposite)  \\\n",
       " 0                            None                                None   \n",
       " \n",
       "   Ombudsman's name Decision deadline what was the complaint relating to  \\\n",
       " 0             None              None                               None   \n",
       " \n",
       "   what was the main reason that the complainant gave for them complaining  \\\n",
       " 0                                               None                        \n",
       " \n",
       "   What did the complaint want Summary of what happened  \\\n",
       " 0                        None                     None   \n",
       " \n",
       "   Summary of the Ombudsman's reasoning  \n",
       " 0                                 None  ,\n",
       "   Case number Complainant Defendant Defendant's industry  \\\n",
       " 0        None        None      None                 None   \n",
       " \n",
       "   What was the complainant complaining about  \\\n",
       " 0                                       None   \n",
       " \n",
       "   What product involved in the complaint Three key words on this complaint  \\\n",
       " 0                                   None                              None   \n",
       " \n",
       "   Three key topics on this complaint Claimed value in pounds  \\\n",
       " 0                               None                    None   \n",
       " \n",
       "   When did it happen? (date only) Final decision (uphold or opposite)  \\\n",
       " 0                            None                                None   \n",
       " \n",
       "   Ombudsman's name Decision deadline what was the complaint relating to  \\\n",
       " 0             None              None                               None   \n",
       " \n",
       "   what was the main reason that the complainant gave for them complaining  \\\n",
       " 0                                               None                        \n",
       " \n",
       "   What did the complaint want Summary of what happened  \\\n",
       " 0                        None                     None   \n",
       " \n",
       "   Summary of the Ombudsman's reasoning  \n",
       " 0                                 None  ,\n",
       "   Case number Complainant Defendant Defendant's industry  \\\n",
       " 0        None        None      None                 None   \n",
       " \n",
       "   What was the complainant complaining about  \\\n",
       " 0                                       None   \n",
       " \n",
       "   What product involved in the complaint Three key words on this complaint  \\\n",
       " 0                                   None                              None   \n",
       " \n",
       "   Three key topics on this complaint Claimed value in pounds  \\\n",
       " 0                               None                    None   \n",
       " \n",
       "   When did it happen? (date only) Final decision (uphold or opposite)  \\\n",
       " 0                            None                                None   \n",
       " \n",
       "   Ombudsman's name Decision deadline what was the complaint relating to  \\\n",
       " 0             None              None                               None   \n",
       " \n",
       "   what was the main reason that the complainant gave for them complaining  \\\n",
       " 0                                               None                        \n",
       " \n",
       "   What did the complaint want Summary of what happened  \\\n",
       " 0                        None                     None   \n",
       " \n",
       "   Summary of the Ombudsman's reasoning  \n",
       " 0                                 None  ]"
      ]
     },
     "execution_count": 213,
     "metadata": {},
     "output_type": "execute_result"
    }
   ],
   "source": [
    "\n",
    "\n",
    "\n",
    "# doc_content = read_txt(selected_df[\"blob\"].iloc[0])\n",
    "\n",
    "# response_string = processing_doc({doc_content[0:1000]})\n",
    "\n",
    "# cleaned_json_string = response_string.replace('```','').split(\"json\",1)[1]\n",
    "\n",
    "# d = json.loads(cleaned_json_string)\n",
    "# print(d)\n",
    "\n",
    "# df = pd.json_normalize(d)\n",
    "# df\n",
    "\n",
    "\n",
    "#[read_text(r[\"blob\"]) for row in selected_df.iterrows()]\n",
    "\n",
    "df_list = []\n",
    "for index, (blob, drn, company) in selected_df.iterrows():\n",
    "    doc_content = read_txt(blob)\n",
    "    response_string = processing_doc({doc_content[0:1000]})\n",
    "    cleaned_json_string = response_string.replace('```','').split(\"json\",1)[1]\n",
    "    d = json.loads(cleaned_json_string)\n",
    "    df = pd.json_normalize(d)\n",
    "    df_list.append(df)\n",
    "\n",
    "df_list\n",
    "    "
   ]
  },
  {
   "cell_type": "code",
   "execution_count": 215,
   "id": "4876c9e6-2c4c-4b23-b334-a16578f5de73",
   "metadata": {
    "tags": []
   },
   "outputs": [],
   "source": [
    "summary_table = pd.concat(df_list, axis=0)"
   ]
  },
  {
   "cell_type": "code",
   "execution_count": 218,
   "id": "54ed7453-7fce-43e2-b00b-e33336468b96",
   "metadata": {
    "tags": []
   },
   "outputs": [],
   "source": [
    "summary_table_name = \"../output/summary_lloyds.csv\"\n",
    "\n",
    "summary_table.to_csv(summary_table_name, index=False)\n"
   ]
  },
  {
   "cell_type": "code",
   "execution_count": null,
   "id": "e599922a-f6b2-47eb-bd7f-5f5f70f7510d",
   "metadata": {},
   "outputs": [],
   "source": []
  },
  {
   "cell_type": "code",
   "execution_count": null,
   "id": "075f6c1c-2a14-462a-b6ea-4fef3798397d",
   "metadata": {},
   "outputs": [],
   "source": []
  },
  {
   "cell_type": "code",
   "execution_count": null,
   "id": "884ddf49-2806-4e7c-bcf3-aee3faedc8e9",
   "metadata": {},
   "outputs": [],
   "source": []
  },
  {
   "cell_type": "code",
   "execution_count": null,
   "id": "86a28326-4c6e-4331-b1c7-8d00fdbaf9e4",
   "metadata": {},
   "outputs": [],
   "source": []
  }
 ],
 "metadata": {
  "environment": {
   "kernel": "python3",
   "name": "tf2-gpu.2-13.m116",
   "type": "gcloud",
   "uri": "gcr.io/deeplearning-platform-release/tf2-gpu.2-13:m116"
  },
  "kernelspec": {
   "display_name": "Python 3 (Local)",
   "language": "python",
   "name": "python3"
  },
  "language_info": {
   "codemirror_mode": {
    "name": "ipython",
    "version": 3
   },
   "file_extension": ".py",
   "mimetype": "text/x-python",
   "name": "python",
   "nbconvert_exporter": "python",
   "pygments_lexer": "ipython3",
   "version": "3.10.13"
  }
 },
 "nbformat": 4,
 "nbformat_minor": 5
}
